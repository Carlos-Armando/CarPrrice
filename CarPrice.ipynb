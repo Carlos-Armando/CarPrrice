{
  "nbformat": 4,
  "nbformat_minor": 0,
  "metadata": {
    "colab": {
      "name": "Untitled2.ipynb",
      "provenance": [],
      "include_colab_link": true
    },
    "kernelspec": {
      "name": "python3",
      "display_name": "Python 3"
    },
    "language_info": {
      "name": "python"
    }
  },
  "cells": [
    {
      "cell_type": "markdown",
      "metadata": {
        "id": "view-in-github",
        "colab_type": "text"
      },
      "source": [
        "<a href=\"https://colab.research.google.com/github/Carlos-Armando/CarPrrice/blob/main/CarPrice.ipynb\" target=\"_parent\"><img src=\"https://colab.research.google.com/assets/colab-badge.svg\" alt=\"Open In Colab\"/></a>"
      ]
    },
    {
      "cell_type": "markdown",
      "metadata": {
        "id": "suAm8GFVYLr6"
      },
      "source": [
        "Carlos Armando De Jesus\n",
        "\n",
        "Tic 91\n",
        "Análisis del dataset Car Price"
      ]
    },
    {
      "cell_type": "markdown",
      "metadata": {
        "id": "g3bN8TnzYzVq"
      },
      "source": [
        "Importar las librerias"
      ]
    },
    {
      "cell_type": "code",
      "metadata": {
        "id": "M94P3YXLY2vN"
      },
      "source": [
        "import pandas as pd\n",
        "import numpy as np\n",
        "import seaborn as sns #visualisation\n",
        "import matplotlib.pyplot as plt #visualisation\n",
        "%matplotlib inline\n",
        "import scipy.stats as stats\n"
      ],
      "execution_count": null,
      "outputs": []
    },
    {
      "cell_type": "markdown",
      "metadata": {
        "id": "jUSl71HJZAoC"
      },
      "source": [
        "Cargar los datos\n"
      ]
    },
    {
      "cell_type": "code",
      "metadata": {
        "id": "Qe9j6mRHZDIP"
      },
      "source": [
        "dataframe = pd.read_csv(\"car_price_assignment.csv\")\n"
      ],
      "execution_count": null,
      "outputs": []
    },
    {
      "cell_type": "markdown",
      "metadata": {
        "id": "B9sl4oJGZJXC"
      },
      "source": [
        "Dataset\n"
      ]
    },
    {
      "cell_type": "code",
      "metadata": {
        "colab": {
          "base_uri": "https://localhost:8080/"
        },
        "id": "xAabrtFqZLs6",
        "outputId": "6ee2b8b5-2e53-4059-a18c-f93ee874fa6f"
      },
      "source": [
        " dataframe.shape"
      ],
      "execution_count": null,
      "outputs": [
        {
          "output_type": "execute_result",
          "data": {
            "text/plain": [
              "(205, 26)"
            ]
          },
          "metadata": {},
          "execution_count": 3
        }
      ]
    },
    {
      "cell_type": "markdown",
      "metadata": {
        "id": "A5495OyZZRAK"
      },
      "source": [
        "5 primeros registros "
      ]
    },
    {
      "cell_type": "code",
      "metadata": {
        "colab": {
          "base_uri": "https://localhost:8080/",
          "height": 272
        },
        "id": "R-jvZTUCZVmm",
        "outputId": "d1299da9-52a7-46ed-c28a-41e33e1eb949"
      },
      "source": [
        "dataframe.head(5)"
      ],
      "execution_count": null,
      "outputs": [
        {
          "output_type": "execute_result",
          "data": {
            "text/html": [
              "<div>\n",
              "<style scoped>\n",
              "    .dataframe tbody tr th:only-of-type {\n",
              "        vertical-align: middle;\n",
              "    }\n",
              "\n",
              "    .dataframe tbody tr th {\n",
              "        vertical-align: top;\n",
              "    }\n",
              "\n",
              "    .dataframe thead th {\n",
              "        text-align: right;\n",
              "    }\n",
              "</style>\n",
              "<table border=\"1\" class=\"dataframe\">\n",
              "  <thead>\n",
              "    <tr style=\"text-align: right;\">\n",
              "      <th></th>\n",
              "      <th>car_ID</th>\n",
              "      <th>symboling</th>\n",
              "      <th>CarName</th>\n",
              "      <th>fueltype</th>\n",
              "      <th>aspiration</th>\n",
              "      <th>doornumber</th>\n",
              "      <th>carbody</th>\n",
              "      <th>drivewheel</th>\n",
              "      <th>enginelocation</th>\n",
              "      <th>wheelbase</th>\n",
              "      <th>carlength</th>\n",
              "      <th>carwidth</th>\n",
              "      <th>carheight</th>\n",
              "      <th>curbweight</th>\n",
              "      <th>enginetype</th>\n",
              "      <th>cylindernumber</th>\n",
              "      <th>enginesize</th>\n",
              "      <th>fuelsystem</th>\n",
              "      <th>boreratio</th>\n",
              "      <th>stroke</th>\n",
              "      <th>compressionratio</th>\n",
              "      <th>horsepower</th>\n",
              "      <th>peakrpm</th>\n",
              "      <th>citympg</th>\n",
              "      <th>highwaympg</th>\n",
              "      <th>price</th>\n",
              "    </tr>\n",
              "  </thead>\n",
              "  <tbody>\n",
              "    <tr>\n",
              "      <th>0</th>\n",
              "      <td>1</td>\n",
              "      <td>3</td>\n",
              "      <td>alfa-romero giulia</td>\n",
              "      <td>gas</td>\n",
              "      <td>std</td>\n",
              "      <td>two</td>\n",
              "      <td>convertible</td>\n",
              "      <td>rwd</td>\n",
              "      <td>front</td>\n",
              "      <td>88.6</td>\n",
              "      <td>168.8</td>\n",
              "      <td>64.1</td>\n",
              "      <td>48.8</td>\n",
              "      <td>2548</td>\n",
              "      <td>dohc</td>\n",
              "      <td>four</td>\n",
              "      <td>130</td>\n",
              "      <td>mpfi</td>\n",
              "      <td>3.47</td>\n",
              "      <td>2.68</td>\n",
              "      <td>9.0</td>\n",
              "      <td>111</td>\n",
              "      <td>5000</td>\n",
              "      <td>21</td>\n",
              "      <td>27</td>\n",
              "      <td>13495.0</td>\n",
              "    </tr>\n",
              "    <tr>\n",
              "      <th>1</th>\n",
              "      <td>2</td>\n",
              "      <td>3</td>\n",
              "      <td>alfa-romero stelvio</td>\n",
              "      <td>gas</td>\n",
              "      <td>std</td>\n",
              "      <td>two</td>\n",
              "      <td>convertible</td>\n",
              "      <td>rwd</td>\n",
              "      <td>front</td>\n",
              "      <td>88.6</td>\n",
              "      <td>168.8</td>\n",
              "      <td>64.1</td>\n",
              "      <td>48.8</td>\n",
              "      <td>2548</td>\n",
              "      <td>dohc</td>\n",
              "      <td>four</td>\n",
              "      <td>130</td>\n",
              "      <td>mpfi</td>\n",
              "      <td>3.47</td>\n",
              "      <td>2.68</td>\n",
              "      <td>9.0</td>\n",
              "      <td>111</td>\n",
              "      <td>5000</td>\n",
              "      <td>21</td>\n",
              "      <td>27</td>\n",
              "      <td>16500.0</td>\n",
              "    </tr>\n",
              "    <tr>\n",
              "      <th>2</th>\n",
              "      <td>3</td>\n",
              "      <td>1</td>\n",
              "      <td>alfa-romero Quadrifoglio</td>\n",
              "      <td>gas</td>\n",
              "      <td>std</td>\n",
              "      <td>two</td>\n",
              "      <td>hatchback</td>\n",
              "      <td>rwd</td>\n",
              "      <td>front</td>\n",
              "      <td>94.5</td>\n",
              "      <td>171.2</td>\n",
              "      <td>65.5</td>\n",
              "      <td>52.4</td>\n",
              "      <td>2823</td>\n",
              "      <td>ohcv</td>\n",
              "      <td>six</td>\n",
              "      <td>152</td>\n",
              "      <td>mpfi</td>\n",
              "      <td>2.68</td>\n",
              "      <td>3.47</td>\n",
              "      <td>9.0</td>\n",
              "      <td>154</td>\n",
              "      <td>5000</td>\n",
              "      <td>19</td>\n",
              "      <td>26</td>\n",
              "      <td>16500.0</td>\n",
              "    </tr>\n",
              "    <tr>\n",
              "      <th>3</th>\n",
              "      <td>4</td>\n",
              "      <td>2</td>\n",
              "      <td>audi 100 ls</td>\n",
              "      <td>gas</td>\n",
              "      <td>std</td>\n",
              "      <td>four</td>\n",
              "      <td>sedan</td>\n",
              "      <td>fwd</td>\n",
              "      <td>front</td>\n",
              "      <td>99.8</td>\n",
              "      <td>176.6</td>\n",
              "      <td>66.2</td>\n",
              "      <td>54.3</td>\n",
              "      <td>2337</td>\n",
              "      <td>ohc</td>\n",
              "      <td>four</td>\n",
              "      <td>109</td>\n",
              "      <td>mpfi</td>\n",
              "      <td>3.19</td>\n",
              "      <td>3.40</td>\n",
              "      <td>10.0</td>\n",
              "      <td>102</td>\n",
              "      <td>5500</td>\n",
              "      <td>24</td>\n",
              "      <td>30</td>\n",
              "      <td>13950.0</td>\n",
              "    </tr>\n",
              "    <tr>\n",
              "      <th>4</th>\n",
              "      <td>5</td>\n",
              "      <td>2</td>\n",
              "      <td>audi 100ls</td>\n",
              "      <td>gas</td>\n",
              "      <td>std</td>\n",
              "      <td>four</td>\n",
              "      <td>sedan</td>\n",
              "      <td>4wd</td>\n",
              "      <td>front</td>\n",
              "      <td>99.4</td>\n",
              "      <td>176.6</td>\n",
              "      <td>66.4</td>\n",
              "      <td>54.3</td>\n",
              "      <td>2824</td>\n",
              "      <td>ohc</td>\n",
              "      <td>five</td>\n",
              "      <td>136</td>\n",
              "      <td>mpfi</td>\n",
              "      <td>3.19</td>\n",
              "      <td>3.40</td>\n",
              "      <td>8.0</td>\n",
              "      <td>115</td>\n",
              "      <td>5500</td>\n",
              "      <td>18</td>\n",
              "      <td>22</td>\n",
              "      <td>17450.0</td>\n",
              "    </tr>\n",
              "  </tbody>\n",
              "</table>\n",
              "</div>"
            ],
            "text/plain": [
              "   car_ID  symboling                   CarName  ... citympg highwaympg    price\n",
              "0       1          3        alfa-romero giulia  ...      21         27  13495.0\n",
              "1       2          3       alfa-romero stelvio  ...      21         27  16500.0\n",
              "2       3          1  alfa-romero Quadrifoglio  ...      19         26  16500.0\n",
              "3       4          2               audi 100 ls  ...      24         30  13950.0\n",
              "4       5          2                audi 100ls  ...      18         22  17450.0\n",
              "\n",
              "[5 rows x 26 columns]"
            ]
          },
          "metadata": {},
          "execution_count": 4
        }
      ]
    },
    {
      "cell_type": "code",
      "metadata": {
        "colab": {
          "base_uri": "https://localhost:8080/",
          "height": 322
        },
        "id": "gZsjfX1XZkaU",
        "outputId": "1abd6375-ad0f-49f1-a224-775405eb0416"
      },
      "source": [
        "dataframe.tail(5)"
      ],
      "execution_count": null,
      "outputs": [
        {
          "output_type": "execute_result",
          "data": {
            "text/html": [
              "<div>\n",
              "<style scoped>\n",
              "    .dataframe tbody tr th:only-of-type {\n",
              "        vertical-align: middle;\n",
              "    }\n",
              "\n",
              "    .dataframe tbody tr th {\n",
              "        vertical-align: top;\n",
              "    }\n",
              "\n",
              "    .dataframe thead th {\n",
              "        text-align: right;\n",
              "    }\n",
              "</style>\n",
              "<table border=\"1\" class=\"dataframe\">\n",
              "  <thead>\n",
              "    <tr style=\"text-align: right;\">\n",
              "      <th></th>\n",
              "      <th>car_ID</th>\n",
              "      <th>symboling</th>\n",
              "      <th>CarName</th>\n",
              "      <th>fueltype</th>\n",
              "      <th>aspiration</th>\n",
              "      <th>doornumber</th>\n",
              "      <th>carbody</th>\n",
              "      <th>drivewheel</th>\n",
              "      <th>enginelocation</th>\n",
              "      <th>wheelbase</th>\n",
              "      <th>carlength</th>\n",
              "      <th>carwidth</th>\n",
              "      <th>carheight</th>\n",
              "      <th>curbweight</th>\n",
              "      <th>enginetype</th>\n",
              "      <th>cylindernumber</th>\n",
              "      <th>enginesize</th>\n",
              "      <th>fuelsystem</th>\n",
              "      <th>boreratio</th>\n",
              "      <th>stroke</th>\n",
              "      <th>compressionratio</th>\n",
              "      <th>horsepower</th>\n",
              "      <th>peakrpm</th>\n",
              "      <th>citympg</th>\n",
              "      <th>highwaympg</th>\n",
              "      <th>price</th>\n",
              "    </tr>\n",
              "  </thead>\n",
              "  <tbody>\n",
              "    <tr>\n",
              "      <th>200</th>\n",
              "      <td>201</td>\n",
              "      <td>-1</td>\n",
              "      <td>volvo 145e (sw)</td>\n",
              "      <td>gas</td>\n",
              "      <td>std</td>\n",
              "      <td>four</td>\n",
              "      <td>sedan</td>\n",
              "      <td>rwd</td>\n",
              "      <td>front</td>\n",
              "      <td>109.1</td>\n",
              "      <td>188.8</td>\n",
              "      <td>68.9</td>\n",
              "      <td>55.5</td>\n",
              "      <td>2952</td>\n",
              "      <td>ohc</td>\n",
              "      <td>four</td>\n",
              "      <td>141</td>\n",
              "      <td>mpfi</td>\n",
              "      <td>3.78</td>\n",
              "      <td>3.15</td>\n",
              "      <td>9.5</td>\n",
              "      <td>114</td>\n",
              "      <td>5400</td>\n",
              "      <td>23</td>\n",
              "      <td>28</td>\n",
              "      <td>16845.0</td>\n",
              "    </tr>\n",
              "    <tr>\n",
              "      <th>201</th>\n",
              "      <td>202</td>\n",
              "      <td>-1</td>\n",
              "      <td>volvo 144ea</td>\n",
              "      <td>gas</td>\n",
              "      <td>turbo</td>\n",
              "      <td>four</td>\n",
              "      <td>sedan</td>\n",
              "      <td>rwd</td>\n",
              "      <td>front</td>\n",
              "      <td>109.1</td>\n",
              "      <td>188.8</td>\n",
              "      <td>68.8</td>\n",
              "      <td>55.5</td>\n",
              "      <td>3049</td>\n",
              "      <td>ohc</td>\n",
              "      <td>four</td>\n",
              "      <td>141</td>\n",
              "      <td>mpfi</td>\n",
              "      <td>3.78</td>\n",
              "      <td>3.15</td>\n",
              "      <td>8.7</td>\n",
              "      <td>160</td>\n",
              "      <td>5300</td>\n",
              "      <td>19</td>\n",
              "      <td>25</td>\n",
              "      <td>19045.0</td>\n",
              "    </tr>\n",
              "    <tr>\n",
              "      <th>202</th>\n",
              "      <td>203</td>\n",
              "      <td>-1</td>\n",
              "      <td>volvo 244dl</td>\n",
              "      <td>gas</td>\n",
              "      <td>std</td>\n",
              "      <td>four</td>\n",
              "      <td>sedan</td>\n",
              "      <td>rwd</td>\n",
              "      <td>front</td>\n",
              "      <td>109.1</td>\n",
              "      <td>188.8</td>\n",
              "      <td>68.9</td>\n",
              "      <td>55.5</td>\n",
              "      <td>3012</td>\n",
              "      <td>ohcv</td>\n",
              "      <td>six</td>\n",
              "      <td>173</td>\n",
              "      <td>mpfi</td>\n",
              "      <td>3.58</td>\n",
              "      <td>2.87</td>\n",
              "      <td>8.8</td>\n",
              "      <td>134</td>\n",
              "      <td>5500</td>\n",
              "      <td>18</td>\n",
              "      <td>23</td>\n",
              "      <td>21485.0</td>\n",
              "    </tr>\n",
              "    <tr>\n",
              "      <th>203</th>\n",
              "      <td>204</td>\n",
              "      <td>-1</td>\n",
              "      <td>volvo 246</td>\n",
              "      <td>diesel</td>\n",
              "      <td>turbo</td>\n",
              "      <td>four</td>\n",
              "      <td>sedan</td>\n",
              "      <td>rwd</td>\n",
              "      <td>front</td>\n",
              "      <td>109.1</td>\n",
              "      <td>188.8</td>\n",
              "      <td>68.9</td>\n",
              "      <td>55.5</td>\n",
              "      <td>3217</td>\n",
              "      <td>ohc</td>\n",
              "      <td>six</td>\n",
              "      <td>145</td>\n",
              "      <td>idi</td>\n",
              "      <td>3.01</td>\n",
              "      <td>3.40</td>\n",
              "      <td>23.0</td>\n",
              "      <td>106</td>\n",
              "      <td>4800</td>\n",
              "      <td>26</td>\n",
              "      <td>27</td>\n",
              "      <td>22470.0</td>\n",
              "    </tr>\n",
              "    <tr>\n",
              "      <th>204</th>\n",
              "      <td>205</td>\n",
              "      <td>-1</td>\n",
              "      <td>volvo 264gl</td>\n",
              "      <td>gas</td>\n",
              "      <td>turbo</td>\n",
              "      <td>four</td>\n",
              "      <td>sedan</td>\n",
              "      <td>rwd</td>\n",
              "      <td>front</td>\n",
              "      <td>109.1</td>\n",
              "      <td>188.8</td>\n",
              "      <td>68.9</td>\n",
              "      <td>55.5</td>\n",
              "      <td>3062</td>\n",
              "      <td>ohc</td>\n",
              "      <td>four</td>\n",
              "      <td>141</td>\n",
              "      <td>mpfi</td>\n",
              "      <td>3.78</td>\n",
              "      <td>3.15</td>\n",
              "      <td>9.5</td>\n",
              "      <td>114</td>\n",
              "      <td>5400</td>\n",
              "      <td>19</td>\n",
              "      <td>25</td>\n",
              "      <td>22625.0</td>\n",
              "    </tr>\n",
              "  </tbody>\n",
              "</table>\n",
              "</div>"
            ],
            "text/plain": [
              "     car_ID  symboling          CarName  ... citympg highwaympg    price\n",
              "200     201         -1  volvo 145e (sw)  ...      23         28  16845.0\n",
              "201     202         -1      volvo 144ea  ...      19         25  19045.0\n",
              "202     203         -1      volvo 244dl  ...      18         23  21485.0\n",
              "203     204         -1        volvo 246  ...      26         27  22470.0\n",
              "204     205         -1      volvo 264gl  ...      19         25  22625.0\n",
              "\n",
              "[5 rows x 26 columns]"
            ]
          },
          "metadata": {},
          "execution_count": 5
        }
      ]
    },
    {
      "cell_type": "markdown",
      "metadata": {
        "id": "KaKn5cDVZmp8"
      },
      "source": [
        "Registros completos "
      ]
    },
    {
      "cell_type": "code",
      "metadata": {
        "colab": {
          "base_uri": "https://localhost:8080/"
        },
        "id": "cqVZAMwmZtaY",
        "outputId": "6641b2f8-910e-4844-91f1-af94ccb2cf43"
      },
      "source": [
        "len(dataframe)\n"
      ],
      "execution_count": null,
      "outputs": [
        {
          "output_type": "execute_result",
          "data": {
            "text/plain": [
              "205"
            ]
          },
          "metadata": {},
          "execution_count": 7
        }
      ]
    },
    {
      "cell_type": "markdown",
      "metadata": {
        "id": "U0-0r3fPZxcy"
      },
      "source": [
        "Datos de cada columna "
      ]
    },
    {
      "cell_type": "code",
      "metadata": {
        "colab": {
          "base_uri": "https://localhost:8080/"
        },
        "id": "Xjqge_qbZ0x9",
        "outputId": "e1664188-c234-40db-ca33-1caf7dee1ea6"
      },
      "source": [
        "dataframe.dtypes"
      ],
      "execution_count": null,
      "outputs": [
        {
          "output_type": "execute_result",
          "data": {
            "text/plain": [
              "car_ID                int64\n",
              "symboling             int64\n",
              "CarName              object\n",
              "fueltype             object\n",
              "aspiration           object\n",
              "doornumber           object\n",
              "carbody              object\n",
              "drivewheel           object\n",
              "enginelocation       object\n",
              "wheelbase           float64\n",
              "carlength           float64\n",
              "carwidth            float64\n",
              "carheight           float64\n",
              "curbweight            int64\n",
              "enginetype           object\n",
              "cylindernumber       object\n",
              "enginesize            int64\n",
              "fuelsystem           object\n",
              "boreratio           float64\n",
              "stroke              float64\n",
              "compressionratio    float64\n",
              "horsepower            int64\n",
              "peakrpm               int64\n",
              "citympg               int64\n",
              "highwaympg            int64\n",
              "price               float64\n",
              "dtype: object"
            ]
          },
          "metadata": {},
          "execution_count": 8
        }
      ]
    },
    {
      "cell_type": "markdown",
      "metadata": {
        "id": "EXrWvCtjZ3SG"
      },
      "source": [
        "Registros duplicados "
      ]
    },
    {
      "cell_type": "code",
      "metadata": {
        "colab": {
          "base_uri": "https://localhost:8080/"
        },
        "id": "jddOzu4kZ5Al",
        "outputId": "12486924-fe0a-4346-e635-f068c62da140"
      },
      "source": [
        "dataframe.shape\n"
      ],
      "execution_count": null,
      "outputs": [
        {
          "output_type": "execute_result",
          "data": {
            "text/plain": [
              "(205, 26)"
            ]
          },
          "metadata": {},
          "execution_count": 9
        }
      ]
    },
    {
      "cell_type": "code",
      "metadata": {
        "id": "pZukOYLKZ-YL"
      },
      "source": [
        "dataframe = dataframe.drop_duplicates()"
      ],
      "execution_count": null,
      "outputs": []
    },
    {
      "cell_type": "code",
      "metadata": {
        "colab": {
          "base_uri": "https://localhost:8080/"
        },
        "id": "MLWMdwNkaAon",
        "outputId": "68bd855a-321f-4038-d07b-a65a67bb0e13"
      },
      "source": [
        "dataframe.shape\n"
      ],
      "execution_count": null,
      "outputs": [
        {
          "output_type": "execute_result",
          "data": {
            "text/plain": [
              "(205, 26)"
            ]
          },
          "metadata": {},
          "execution_count": 11
        }
      ]
    },
    {
      "cell_type": "markdown",
      "metadata": {
        "id": "ssBhLALZaCHr"
      },
      "source": [
        "Valores nulos"
      ]
    },
    {
      "cell_type": "code",
      "metadata": {
        "colab": {
          "base_uri": "https://localhost:8080/"
        },
        "id": "BigueXgWaDXX",
        "outputId": "03cb0ffa-9cfb-4fe7-8364-c226270cb948"
      },
      "source": [
        "dataframe.isnull().sum()"
      ],
      "execution_count": null,
      "outputs": [
        {
          "output_type": "execute_result",
          "data": {
            "text/plain": [
              "car_ID              0\n",
              "symboling           0\n",
              "CarName             0\n",
              "fueltype            0\n",
              "aspiration          0\n",
              "doornumber          0\n",
              "carbody             0\n",
              "drivewheel          0\n",
              "enginelocation      0\n",
              "wheelbase           0\n",
              "carlength           0\n",
              "carwidth            0\n",
              "carheight           0\n",
              "curbweight          0\n",
              "enginetype          0\n",
              "cylindernumber      0\n",
              "enginesize          0\n",
              "fuelsystem          0\n",
              "boreratio           0\n",
              "stroke              0\n",
              "compressionratio    0\n",
              "horsepower          0\n",
              "peakrpm             0\n",
              "citympg             0\n",
              "highwaympg          0\n",
              "price               0\n",
              "dtype: int64"
            ]
          },
          "metadata": {},
          "execution_count": 12
        }
      ]
    },
    {
      "cell_type": "code",
      "metadata": {
        "colab": {
          "base_uri": "https://localhost:8080/"
        },
        "id": "SKuLLKoGaMMn",
        "outputId": "fe79ed43-37ea-4996-d755-047098a9157c"
      },
      "source": [
        "dataframe.info()"
      ],
      "execution_count": null,
      "outputs": [
        {
          "output_type": "stream",
          "name": "stdout",
          "text": [
            "<class 'pandas.core.frame.DataFrame'>\n",
            "Int64Index: 205 entries, 0 to 204\n",
            "Data columns (total 26 columns):\n",
            " #   Column            Non-Null Count  Dtype  \n",
            "---  ------            --------------  -----  \n",
            " 0   car_ID            205 non-null    int64  \n",
            " 1   symboling         205 non-null    int64  \n",
            " 2   CarName           205 non-null    object \n",
            " 3   fueltype          205 non-null    object \n",
            " 4   aspiration        205 non-null    object \n",
            " 5   doornumber        205 non-null    object \n",
            " 6   carbody           205 non-null    object \n",
            " 7   drivewheel        205 non-null    object \n",
            " 8   enginelocation    205 non-null    object \n",
            " 9   wheelbase         205 non-null    float64\n",
            " 10  carlength         205 non-null    float64\n",
            " 11  carwidth          205 non-null    float64\n",
            " 12  carheight         205 non-null    float64\n",
            " 13  curbweight        205 non-null    int64  \n",
            " 14  enginetype        205 non-null    object \n",
            " 15  cylindernumber    205 non-null    object \n",
            " 16  enginesize        205 non-null    int64  \n",
            " 17  fuelsystem        205 non-null    object \n",
            " 18  boreratio         205 non-null    float64\n",
            " 19  stroke            205 non-null    float64\n",
            " 20  compressionratio  205 non-null    float64\n",
            " 21  horsepower        205 non-null    int64  \n",
            " 22  peakrpm           205 non-null    int64  \n",
            " 23  citympg           205 non-null    int64  \n",
            " 24  highwaympg        205 non-null    int64  \n",
            " 25  price             205 non-null    float64\n",
            "dtypes: float64(8), int64(8), object(10)\n",
            "memory usage: 43.2+ KB\n"
          ]
        }
      ]
    },
    {
      "cell_type": "markdown",
      "metadata": {
        "id": "ulpQcJwWaRfR"
      },
      "source": [
        "Promedio de cada columna "
      ]
    },
    {
      "cell_type": "code",
      "metadata": {
        "colab": {
          "base_uri": "https://localhost:8080/"
        },
        "id": "xFGs481VaUBa",
        "outputId": "763dfa9a-7ef0-4dcf-b509-e44207cfea52"
      },
      "source": [
        "dataframe.mean()"
      ],
      "execution_count": null,
      "outputs": [
        {
          "output_type": "execute_result",
          "data": {
            "text/plain": [
              "car_ID                103.000000\n",
              "symboling               0.834146\n",
              "wheelbase              98.756585\n",
              "carlength             174.049268\n",
              "carwidth               65.907805\n",
              "carheight              53.724878\n",
              "curbweight           2555.565854\n",
              "enginesize            126.907317\n",
              "boreratio               3.329756\n",
              "stroke                  3.255415\n",
              "compressionratio       10.142537\n",
              "horsepower            104.117073\n",
              "peakrpm              5125.121951\n",
              "citympg                25.219512\n",
              "highwaympg             30.751220\n",
              "price               13276.710571\n",
              "dtype: float64"
            ]
          },
          "metadata": {},
          "execution_count": 14
        }
      ]
    },
    {
      "cell_type": "markdown",
      "metadata": {
        "id": "xg8n63P3abwB"
      },
      "source": [
        "Estadisticas"
      ]
    },
    {
      "cell_type": "code",
      "metadata": {
        "colab": {
          "base_uri": "https://localhost:8080/",
          "height": 314
        },
        "id": "g152Vnload03",
        "outputId": "6b0e3af2-7cf4-43b7-fb7b-03d78acf759e"
      },
      "source": [
        "dataframe.describe()"
      ],
      "execution_count": null,
      "outputs": [
        {
          "output_type": "execute_result",
          "data": {
            "text/html": [
              "<div>\n",
              "<style scoped>\n",
              "    .dataframe tbody tr th:only-of-type {\n",
              "        vertical-align: middle;\n",
              "    }\n",
              "\n",
              "    .dataframe tbody tr th {\n",
              "        vertical-align: top;\n",
              "    }\n",
              "\n",
              "    .dataframe thead th {\n",
              "        text-align: right;\n",
              "    }\n",
              "</style>\n",
              "<table border=\"1\" class=\"dataframe\">\n",
              "  <thead>\n",
              "    <tr style=\"text-align: right;\">\n",
              "      <th></th>\n",
              "      <th>car_ID</th>\n",
              "      <th>symboling</th>\n",
              "      <th>wheelbase</th>\n",
              "      <th>carlength</th>\n",
              "      <th>carwidth</th>\n",
              "      <th>carheight</th>\n",
              "      <th>curbweight</th>\n",
              "      <th>enginesize</th>\n",
              "      <th>boreratio</th>\n",
              "      <th>stroke</th>\n",
              "      <th>compressionratio</th>\n",
              "      <th>horsepower</th>\n",
              "      <th>peakrpm</th>\n",
              "      <th>citympg</th>\n",
              "      <th>highwaympg</th>\n",
              "      <th>price</th>\n",
              "    </tr>\n",
              "  </thead>\n",
              "  <tbody>\n",
              "    <tr>\n",
              "      <th>count</th>\n",
              "      <td>205.000000</td>\n",
              "      <td>205.000000</td>\n",
              "      <td>205.000000</td>\n",
              "      <td>205.000000</td>\n",
              "      <td>205.000000</td>\n",
              "      <td>205.000000</td>\n",
              "      <td>205.000000</td>\n",
              "      <td>205.000000</td>\n",
              "      <td>205.000000</td>\n",
              "      <td>205.000000</td>\n",
              "      <td>205.000000</td>\n",
              "      <td>205.000000</td>\n",
              "      <td>205.000000</td>\n",
              "      <td>205.000000</td>\n",
              "      <td>205.000000</td>\n",
              "      <td>205.000000</td>\n",
              "    </tr>\n",
              "    <tr>\n",
              "      <th>mean</th>\n",
              "      <td>103.000000</td>\n",
              "      <td>0.834146</td>\n",
              "      <td>98.756585</td>\n",
              "      <td>174.049268</td>\n",
              "      <td>65.907805</td>\n",
              "      <td>53.724878</td>\n",
              "      <td>2555.565854</td>\n",
              "      <td>126.907317</td>\n",
              "      <td>3.329756</td>\n",
              "      <td>3.255415</td>\n",
              "      <td>10.142537</td>\n",
              "      <td>104.117073</td>\n",
              "      <td>5125.121951</td>\n",
              "      <td>25.219512</td>\n",
              "      <td>30.751220</td>\n",
              "      <td>13276.710571</td>\n",
              "    </tr>\n",
              "    <tr>\n",
              "      <th>std</th>\n",
              "      <td>59.322565</td>\n",
              "      <td>1.245307</td>\n",
              "      <td>6.021776</td>\n",
              "      <td>12.337289</td>\n",
              "      <td>2.145204</td>\n",
              "      <td>2.443522</td>\n",
              "      <td>520.680204</td>\n",
              "      <td>41.642693</td>\n",
              "      <td>0.270844</td>\n",
              "      <td>0.313597</td>\n",
              "      <td>3.972040</td>\n",
              "      <td>39.544167</td>\n",
              "      <td>476.985643</td>\n",
              "      <td>6.542142</td>\n",
              "      <td>6.886443</td>\n",
              "      <td>7988.852332</td>\n",
              "    </tr>\n",
              "    <tr>\n",
              "      <th>min</th>\n",
              "      <td>1.000000</td>\n",
              "      <td>-2.000000</td>\n",
              "      <td>86.600000</td>\n",
              "      <td>141.100000</td>\n",
              "      <td>60.300000</td>\n",
              "      <td>47.800000</td>\n",
              "      <td>1488.000000</td>\n",
              "      <td>61.000000</td>\n",
              "      <td>2.540000</td>\n",
              "      <td>2.070000</td>\n",
              "      <td>7.000000</td>\n",
              "      <td>48.000000</td>\n",
              "      <td>4150.000000</td>\n",
              "      <td>13.000000</td>\n",
              "      <td>16.000000</td>\n",
              "      <td>5118.000000</td>\n",
              "    </tr>\n",
              "    <tr>\n",
              "      <th>25%</th>\n",
              "      <td>52.000000</td>\n",
              "      <td>0.000000</td>\n",
              "      <td>94.500000</td>\n",
              "      <td>166.300000</td>\n",
              "      <td>64.100000</td>\n",
              "      <td>52.000000</td>\n",
              "      <td>2145.000000</td>\n",
              "      <td>97.000000</td>\n",
              "      <td>3.150000</td>\n",
              "      <td>3.110000</td>\n",
              "      <td>8.600000</td>\n",
              "      <td>70.000000</td>\n",
              "      <td>4800.000000</td>\n",
              "      <td>19.000000</td>\n",
              "      <td>25.000000</td>\n",
              "      <td>7788.000000</td>\n",
              "    </tr>\n",
              "    <tr>\n",
              "      <th>50%</th>\n",
              "      <td>103.000000</td>\n",
              "      <td>1.000000</td>\n",
              "      <td>97.000000</td>\n",
              "      <td>173.200000</td>\n",
              "      <td>65.500000</td>\n",
              "      <td>54.100000</td>\n",
              "      <td>2414.000000</td>\n",
              "      <td>120.000000</td>\n",
              "      <td>3.310000</td>\n",
              "      <td>3.290000</td>\n",
              "      <td>9.000000</td>\n",
              "      <td>95.000000</td>\n",
              "      <td>5200.000000</td>\n",
              "      <td>24.000000</td>\n",
              "      <td>30.000000</td>\n",
              "      <td>10295.000000</td>\n",
              "    </tr>\n",
              "    <tr>\n",
              "      <th>75%</th>\n",
              "      <td>154.000000</td>\n",
              "      <td>2.000000</td>\n",
              "      <td>102.400000</td>\n",
              "      <td>183.100000</td>\n",
              "      <td>66.900000</td>\n",
              "      <td>55.500000</td>\n",
              "      <td>2935.000000</td>\n",
              "      <td>141.000000</td>\n",
              "      <td>3.580000</td>\n",
              "      <td>3.410000</td>\n",
              "      <td>9.400000</td>\n",
              "      <td>116.000000</td>\n",
              "      <td>5500.000000</td>\n",
              "      <td>30.000000</td>\n",
              "      <td>34.000000</td>\n",
              "      <td>16503.000000</td>\n",
              "    </tr>\n",
              "    <tr>\n",
              "      <th>max</th>\n",
              "      <td>205.000000</td>\n",
              "      <td>3.000000</td>\n",
              "      <td>120.900000</td>\n",
              "      <td>208.100000</td>\n",
              "      <td>72.300000</td>\n",
              "      <td>59.800000</td>\n",
              "      <td>4066.000000</td>\n",
              "      <td>326.000000</td>\n",
              "      <td>3.940000</td>\n",
              "      <td>4.170000</td>\n",
              "      <td>23.000000</td>\n",
              "      <td>288.000000</td>\n",
              "      <td>6600.000000</td>\n",
              "      <td>49.000000</td>\n",
              "      <td>54.000000</td>\n",
              "      <td>45400.000000</td>\n",
              "    </tr>\n",
              "  </tbody>\n",
              "</table>\n",
              "</div>"
            ],
            "text/plain": [
              "           car_ID   symboling   wheelbase  ...     citympg  highwaympg         price\n",
              "count  205.000000  205.000000  205.000000  ...  205.000000  205.000000    205.000000\n",
              "mean   103.000000    0.834146   98.756585  ...   25.219512   30.751220  13276.710571\n",
              "std     59.322565    1.245307    6.021776  ...    6.542142    6.886443   7988.852332\n",
              "min      1.000000   -2.000000   86.600000  ...   13.000000   16.000000   5118.000000\n",
              "25%     52.000000    0.000000   94.500000  ...   19.000000   25.000000   7788.000000\n",
              "50%    103.000000    1.000000   97.000000  ...   24.000000   30.000000  10295.000000\n",
              "75%    154.000000    2.000000  102.400000  ...   30.000000   34.000000  16503.000000\n",
              "max    205.000000    3.000000  120.900000  ...   49.000000   54.000000  45400.000000\n",
              "\n",
              "[8 rows x 16 columns]"
            ]
          },
          "metadata": {},
          "execution_count": 15
        }
      ]
    },
    {
      "cell_type": "markdown",
      "metadata": {
        "id": "HCT5AbtuahPt"
      },
      "source": [
        "Correlacion entre columnas "
      ]
    },
    {
      "cell_type": "code",
      "metadata": {
        "colab": {
          "base_uri": "https://localhost:8080/",
          "height": 558
        },
        "id": "z184yeAYakqK",
        "outputId": "b1af6282-3d88-4048-f90f-555a1a60478e"
      },
      "source": [
        "dataframe.corr()"
      ],
      "execution_count": null,
      "outputs": [
        {
          "output_type": "execute_result",
          "data": {
            "text/html": [
              "<div>\n",
              "<style scoped>\n",
              "    .dataframe tbody tr th:only-of-type {\n",
              "        vertical-align: middle;\n",
              "    }\n",
              "\n",
              "    .dataframe tbody tr th {\n",
              "        vertical-align: top;\n",
              "    }\n",
              "\n",
              "    .dataframe thead th {\n",
              "        text-align: right;\n",
              "    }\n",
              "</style>\n",
              "<table border=\"1\" class=\"dataframe\">\n",
              "  <thead>\n",
              "    <tr style=\"text-align: right;\">\n",
              "      <th></th>\n",
              "      <th>car_ID</th>\n",
              "      <th>symboling</th>\n",
              "      <th>wheelbase</th>\n",
              "      <th>carlength</th>\n",
              "      <th>carwidth</th>\n",
              "      <th>carheight</th>\n",
              "      <th>curbweight</th>\n",
              "      <th>enginesize</th>\n",
              "      <th>boreratio</th>\n",
              "      <th>stroke</th>\n",
              "      <th>compressionratio</th>\n",
              "      <th>horsepower</th>\n",
              "      <th>peakrpm</th>\n",
              "      <th>citympg</th>\n",
              "      <th>highwaympg</th>\n",
              "      <th>price</th>\n",
              "    </tr>\n",
              "  </thead>\n",
              "  <tbody>\n",
              "    <tr>\n",
              "      <th>car_ID</th>\n",
              "      <td>1.000000</td>\n",
              "      <td>-0.151621</td>\n",
              "      <td>0.129729</td>\n",
              "      <td>0.170636</td>\n",
              "      <td>0.052387</td>\n",
              "      <td>0.255960</td>\n",
              "      <td>0.071962</td>\n",
              "      <td>-0.033930</td>\n",
              "      <td>0.260064</td>\n",
              "      <td>-0.160824</td>\n",
              "      <td>0.150276</td>\n",
              "      <td>-0.015006</td>\n",
              "      <td>-0.203789</td>\n",
              "      <td>0.015940</td>\n",
              "      <td>0.011255</td>\n",
              "      <td>-0.109093</td>\n",
              "    </tr>\n",
              "    <tr>\n",
              "      <th>symboling</th>\n",
              "      <td>-0.151621</td>\n",
              "      <td>1.000000</td>\n",
              "      <td>-0.531954</td>\n",
              "      <td>-0.357612</td>\n",
              "      <td>-0.232919</td>\n",
              "      <td>-0.541038</td>\n",
              "      <td>-0.227691</td>\n",
              "      <td>-0.105790</td>\n",
              "      <td>-0.130051</td>\n",
              "      <td>-0.008735</td>\n",
              "      <td>-0.178515</td>\n",
              "      <td>0.070873</td>\n",
              "      <td>0.273606</td>\n",
              "      <td>-0.035823</td>\n",
              "      <td>0.034606</td>\n",
              "      <td>-0.079978</td>\n",
              "    </tr>\n",
              "    <tr>\n",
              "      <th>wheelbase</th>\n",
              "      <td>0.129729</td>\n",
              "      <td>-0.531954</td>\n",
              "      <td>1.000000</td>\n",
              "      <td>0.874587</td>\n",
              "      <td>0.795144</td>\n",
              "      <td>0.589435</td>\n",
              "      <td>0.776386</td>\n",
              "      <td>0.569329</td>\n",
              "      <td>0.488750</td>\n",
              "      <td>0.160959</td>\n",
              "      <td>0.249786</td>\n",
              "      <td>0.353294</td>\n",
              "      <td>-0.360469</td>\n",
              "      <td>-0.470414</td>\n",
              "      <td>-0.544082</td>\n",
              "      <td>0.577816</td>\n",
              "    </tr>\n",
              "    <tr>\n",
              "      <th>carlength</th>\n",
              "      <td>0.170636</td>\n",
              "      <td>-0.357612</td>\n",
              "      <td>0.874587</td>\n",
              "      <td>1.000000</td>\n",
              "      <td>0.841118</td>\n",
              "      <td>0.491029</td>\n",
              "      <td>0.877728</td>\n",
              "      <td>0.683360</td>\n",
              "      <td>0.606454</td>\n",
              "      <td>0.129533</td>\n",
              "      <td>0.158414</td>\n",
              "      <td>0.552623</td>\n",
              "      <td>-0.287242</td>\n",
              "      <td>-0.670909</td>\n",
              "      <td>-0.704662</td>\n",
              "      <td>0.682920</td>\n",
              "    </tr>\n",
              "    <tr>\n",
              "      <th>carwidth</th>\n",
              "      <td>0.052387</td>\n",
              "      <td>-0.232919</td>\n",
              "      <td>0.795144</td>\n",
              "      <td>0.841118</td>\n",
              "      <td>1.000000</td>\n",
              "      <td>0.279210</td>\n",
              "      <td>0.867032</td>\n",
              "      <td>0.735433</td>\n",
              "      <td>0.559150</td>\n",
              "      <td>0.182942</td>\n",
              "      <td>0.181129</td>\n",
              "      <td>0.640732</td>\n",
              "      <td>-0.220012</td>\n",
              "      <td>-0.642704</td>\n",
              "      <td>-0.677218</td>\n",
              "      <td>0.759325</td>\n",
              "    </tr>\n",
              "    <tr>\n",
              "      <th>carheight</th>\n",
              "      <td>0.255960</td>\n",
              "      <td>-0.541038</td>\n",
              "      <td>0.589435</td>\n",
              "      <td>0.491029</td>\n",
              "      <td>0.279210</td>\n",
              "      <td>1.000000</td>\n",
              "      <td>0.295572</td>\n",
              "      <td>0.067149</td>\n",
              "      <td>0.171071</td>\n",
              "      <td>-0.055307</td>\n",
              "      <td>0.261214</td>\n",
              "      <td>-0.108802</td>\n",
              "      <td>-0.320411</td>\n",
              "      <td>-0.048640</td>\n",
              "      <td>-0.107358</td>\n",
              "      <td>0.119336</td>\n",
              "    </tr>\n",
              "    <tr>\n",
              "      <th>curbweight</th>\n",
              "      <td>0.071962</td>\n",
              "      <td>-0.227691</td>\n",
              "      <td>0.776386</td>\n",
              "      <td>0.877728</td>\n",
              "      <td>0.867032</td>\n",
              "      <td>0.295572</td>\n",
              "      <td>1.000000</td>\n",
              "      <td>0.850594</td>\n",
              "      <td>0.648480</td>\n",
              "      <td>0.168790</td>\n",
              "      <td>0.151362</td>\n",
              "      <td>0.750739</td>\n",
              "      <td>-0.266243</td>\n",
              "      <td>-0.757414</td>\n",
              "      <td>-0.797465</td>\n",
              "      <td>0.835305</td>\n",
              "    </tr>\n",
              "    <tr>\n",
              "      <th>enginesize</th>\n",
              "      <td>-0.033930</td>\n",
              "      <td>-0.105790</td>\n",
              "      <td>0.569329</td>\n",
              "      <td>0.683360</td>\n",
              "      <td>0.735433</td>\n",
              "      <td>0.067149</td>\n",
              "      <td>0.850594</td>\n",
              "      <td>1.000000</td>\n",
              "      <td>0.583774</td>\n",
              "      <td>0.203129</td>\n",
              "      <td>0.028971</td>\n",
              "      <td>0.809769</td>\n",
              "      <td>-0.244660</td>\n",
              "      <td>-0.653658</td>\n",
              "      <td>-0.677470</td>\n",
              "      <td>0.874145</td>\n",
              "    </tr>\n",
              "    <tr>\n",
              "      <th>boreratio</th>\n",
              "      <td>0.260064</td>\n",
              "      <td>-0.130051</td>\n",
              "      <td>0.488750</td>\n",
              "      <td>0.606454</td>\n",
              "      <td>0.559150</td>\n",
              "      <td>0.171071</td>\n",
              "      <td>0.648480</td>\n",
              "      <td>0.583774</td>\n",
              "      <td>1.000000</td>\n",
              "      <td>-0.055909</td>\n",
              "      <td>0.005197</td>\n",
              "      <td>0.573677</td>\n",
              "      <td>-0.254976</td>\n",
              "      <td>-0.584532</td>\n",
              "      <td>-0.587012</td>\n",
              "      <td>0.553173</td>\n",
              "    </tr>\n",
              "    <tr>\n",
              "      <th>stroke</th>\n",
              "      <td>-0.160824</td>\n",
              "      <td>-0.008735</td>\n",
              "      <td>0.160959</td>\n",
              "      <td>0.129533</td>\n",
              "      <td>0.182942</td>\n",
              "      <td>-0.055307</td>\n",
              "      <td>0.168790</td>\n",
              "      <td>0.203129</td>\n",
              "      <td>-0.055909</td>\n",
              "      <td>1.000000</td>\n",
              "      <td>0.186110</td>\n",
              "      <td>0.080940</td>\n",
              "      <td>-0.067964</td>\n",
              "      <td>-0.042145</td>\n",
              "      <td>-0.043931</td>\n",
              "      <td>0.079443</td>\n",
              "    </tr>\n",
              "    <tr>\n",
              "      <th>compressionratio</th>\n",
              "      <td>0.150276</td>\n",
              "      <td>-0.178515</td>\n",
              "      <td>0.249786</td>\n",
              "      <td>0.158414</td>\n",
              "      <td>0.181129</td>\n",
              "      <td>0.261214</td>\n",
              "      <td>0.151362</td>\n",
              "      <td>0.028971</td>\n",
              "      <td>0.005197</td>\n",
              "      <td>0.186110</td>\n",
              "      <td>1.000000</td>\n",
              "      <td>-0.204326</td>\n",
              "      <td>-0.435741</td>\n",
              "      <td>0.324701</td>\n",
              "      <td>0.265201</td>\n",
              "      <td>0.067984</td>\n",
              "    </tr>\n",
              "    <tr>\n",
              "      <th>horsepower</th>\n",
              "      <td>-0.015006</td>\n",
              "      <td>0.070873</td>\n",
              "      <td>0.353294</td>\n",
              "      <td>0.552623</td>\n",
              "      <td>0.640732</td>\n",
              "      <td>-0.108802</td>\n",
              "      <td>0.750739</td>\n",
              "      <td>0.809769</td>\n",
              "      <td>0.573677</td>\n",
              "      <td>0.080940</td>\n",
              "      <td>-0.204326</td>\n",
              "      <td>1.000000</td>\n",
              "      <td>0.131073</td>\n",
              "      <td>-0.801456</td>\n",
              "      <td>-0.770544</td>\n",
              "      <td>0.808139</td>\n",
              "    </tr>\n",
              "    <tr>\n",
              "      <th>peakrpm</th>\n",
              "      <td>-0.203789</td>\n",
              "      <td>0.273606</td>\n",
              "      <td>-0.360469</td>\n",
              "      <td>-0.287242</td>\n",
              "      <td>-0.220012</td>\n",
              "      <td>-0.320411</td>\n",
              "      <td>-0.266243</td>\n",
              "      <td>-0.244660</td>\n",
              "      <td>-0.254976</td>\n",
              "      <td>-0.067964</td>\n",
              "      <td>-0.435741</td>\n",
              "      <td>0.131073</td>\n",
              "      <td>1.000000</td>\n",
              "      <td>-0.113544</td>\n",
              "      <td>-0.054275</td>\n",
              "      <td>-0.085267</td>\n",
              "    </tr>\n",
              "    <tr>\n",
              "      <th>citympg</th>\n",
              "      <td>0.015940</td>\n",
              "      <td>-0.035823</td>\n",
              "      <td>-0.470414</td>\n",
              "      <td>-0.670909</td>\n",
              "      <td>-0.642704</td>\n",
              "      <td>-0.048640</td>\n",
              "      <td>-0.757414</td>\n",
              "      <td>-0.653658</td>\n",
              "      <td>-0.584532</td>\n",
              "      <td>-0.042145</td>\n",
              "      <td>0.324701</td>\n",
              "      <td>-0.801456</td>\n",
              "      <td>-0.113544</td>\n",
              "      <td>1.000000</td>\n",
              "      <td>0.971337</td>\n",
              "      <td>-0.685751</td>\n",
              "    </tr>\n",
              "    <tr>\n",
              "      <th>highwaympg</th>\n",
              "      <td>0.011255</td>\n",
              "      <td>0.034606</td>\n",
              "      <td>-0.544082</td>\n",
              "      <td>-0.704662</td>\n",
              "      <td>-0.677218</td>\n",
              "      <td>-0.107358</td>\n",
              "      <td>-0.797465</td>\n",
              "      <td>-0.677470</td>\n",
              "      <td>-0.587012</td>\n",
              "      <td>-0.043931</td>\n",
              "      <td>0.265201</td>\n",
              "      <td>-0.770544</td>\n",
              "      <td>-0.054275</td>\n",
              "      <td>0.971337</td>\n",
              "      <td>1.000000</td>\n",
              "      <td>-0.697599</td>\n",
              "    </tr>\n",
              "    <tr>\n",
              "      <th>price</th>\n",
              "      <td>-0.109093</td>\n",
              "      <td>-0.079978</td>\n",
              "      <td>0.577816</td>\n",
              "      <td>0.682920</td>\n",
              "      <td>0.759325</td>\n",
              "      <td>0.119336</td>\n",
              "      <td>0.835305</td>\n",
              "      <td>0.874145</td>\n",
              "      <td>0.553173</td>\n",
              "      <td>0.079443</td>\n",
              "      <td>0.067984</td>\n",
              "      <td>0.808139</td>\n",
              "      <td>-0.085267</td>\n",
              "      <td>-0.685751</td>\n",
              "      <td>-0.697599</td>\n",
              "      <td>1.000000</td>\n",
              "    </tr>\n",
              "  </tbody>\n",
              "</table>\n",
              "</div>"
            ],
            "text/plain": [
              "                    car_ID  symboling  ...  highwaympg     price\n",
              "car_ID            1.000000  -0.151621  ...    0.011255 -0.109093\n",
              "symboling        -0.151621   1.000000  ...    0.034606 -0.079978\n",
              "wheelbase         0.129729  -0.531954  ...   -0.544082  0.577816\n",
              "carlength         0.170636  -0.357612  ...   -0.704662  0.682920\n",
              "carwidth          0.052387  -0.232919  ...   -0.677218  0.759325\n",
              "carheight         0.255960  -0.541038  ...   -0.107358  0.119336\n",
              "curbweight        0.071962  -0.227691  ...   -0.797465  0.835305\n",
              "enginesize       -0.033930  -0.105790  ...   -0.677470  0.874145\n",
              "boreratio         0.260064  -0.130051  ...   -0.587012  0.553173\n",
              "stroke           -0.160824  -0.008735  ...   -0.043931  0.079443\n",
              "compressionratio  0.150276  -0.178515  ...    0.265201  0.067984\n",
              "horsepower       -0.015006   0.070873  ...   -0.770544  0.808139\n",
              "peakrpm          -0.203789   0.273606  ...   -0.054275 -0.085267\n",
              "citympg           0.015940  -0.035823  ...    0.971337 -0.685751\n",
              "highwaympg        0.011255   0.034606  ...    1.000000 -0.697599\n",
              "price            -0.109093  -0.079978  ...   -0.697599  1.000000\n",
              "\n",
              "[16 rows x 16 columns]"
            ]
          },
          "metadata": {},
          "execution_count": 16
        }
      ]
    },
    {
      "cell_type": "markdown",
      "metadata": {
        "id": "cqSMYndJame5"
      },
      "source": [
        "Mapa de color "
      ]
    },
    {
      "cell_type": "code",
      "metadata": {
        "id": "mu0CuIo5a-hN"
      },
      "source": [
        "def correlation(dataframe,threshold):\n",
        "  c_corr = set()\n",
        "  corr_matrix = dataframe.corr()\n",
        "  for col in range(len(corr_matrix.columns)):\n",
        "    for corr in range(col):\n",
        "      if abs(corr_matrix.iloc[col,corr]) > threshold: \n",
        "        c_name = corr_matrix.columns[col]\n",
        "        c_corr.add(c_name)\n",
        "  return c_corr "
      ],
      "execution_count": null,
      "outputs": []
    },
    {
      "cell_type": "code",
      "metadata": {
        "colab": {
          "base_uri": "https://localhost:8080/"
        },
        "id": "eth9ZxaebVYF",
        "outputId": "732e087f-d65b-44b5-f25e-7e11e3ae92ec"
      },
      "source": [
        "corr_cols = correlation(dataframe.iloc[:,:-2],0.50)\n",
        "corr_cols"
      ],
      "execution_count": null,
      "outputs": [
        {
          "output_type": "execute_result",
          "data": {
            "text/plain": [
              "{'boreratio',\n",
              " 'carheight',\n",
              " 'carlength',\n",
              " 'carwidth',\n",
              " 'citympg',\n",
              " 'curbweight',\n",
              " 'enginesize',\n",
              " 'horsepower',\n",
              " 'wheelbase'}"
            ]
          },
          "metadata": {},
          "execution_count": 25
        }
      ]
    },
    {
      "cell_type": "code",
      "metadata": {
        "colab": {
          "base_uri": "https://localhost:8080/"
        },
        "id": "EqF0PxwkbaOx",
        "outputId": "bc21eb80-85e8-45a5-d773-3e120b99b168"
      },
      "source": [
        "dataframe.count()"
      ],
      "execution_count": null,
      "outputs": [
        {
          "output_type": "execute_result",
          "data": {
            "text/plain": [
              "car_ID              205\n",
              "symboling           205\n",
              "CarName             205\n",
              "fueltype            205\n",
              "aspiration          205\n",
              "doornumber          205\n",
              "carbody             205\n",
              "drivewheel          205\n",
              "enginelocation      205\n",
              "wheelbase           205\n",
              "carlength           205\n",
              "carwidth            205\n",
              "carheight           205\n",
              "curbweight          205\n",
              "enginetype          205\n",
              "cylindernumber      205\n",
              "enginesize          205\n",
              "fuelsystem          205\n",
              "boreratio           205\n",
              "stroke              205\n",
              "compressionratio    205\n",
              "horsepower          205\n",
              "peakrpm             205\n",
              "citympg             205\n",
              "highwaympg          205\n",
              "price               205\n",
              "dtype: int64"
            ]
          },
          "metadata": {},
          "execution_count": 26
        }
      ]
    }
  ]
}